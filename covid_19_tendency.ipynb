{
 "cells": [
  {
   "cell_type": "code",
   "execution_count": 6,
   "metadata": {},
   "outputs": [
    {
     "data": {
      "image/png": "[encoded data removed]",
      "text/plain": [
       "<Figure size 432x288 with 1 Axes>"
      ]
     },
     "metadata": {},
     "output_type": "display_data"
    }
   ],
   "source": [
    "import numpy as np\n",
    "from scipy.optimize import curve_fit\n",
    "import matplotlib.pyplot as plt\n",
    "\n",
    "def exponential_fit(x, a, b, c):\n",
    "    return a*np.exp(-b*x) + c\n",
    "\n",
    "if __name__ == \"__main__\":\n",
    "    x = np.array([0, 1, 2, 3, 4, 5])\n",
    "    y = np.array([30, 50, 80, 160, 300, 580])\n",
    "    fitting_parameters, covariance = curve_fit(exponential_fit, x, y)\n",
    "    a, b, c = fitting_parameters\n",
    "\n",
    "    next_x = 50\n",
    "    next_y = exponential_fit(next_x, a, b, c)\n",
    "\n",
    "    plt.plot(y)\n",
    "    plt.plot(np.append(y, next_y), 'ro')\n",
    "    plt.grid()\n",
    "    plt.show()"
   ]
  },
  {
   "cell_type": "code",
   "execution_count": null,
   "metadata": {},
   "outputs": [],
   "source": []
  }
 ],
 "metadata": {
  "kernelspec": {
   "display_name": "Python 3",
   "language": "python",
   "name": "python3"
  },
  "language_info": {
   "codemirror_mode": {
    "name": "ipython",
    "version": 3
   },
   "file_extension": ".py",
   "mimetype": "text/x-python",
   "name": "python",
   "nbconvert_exporter": "python",
   "pygments_lexer": "ipython3",
   "version": "3.6.9"
  }
 },
 "nbformat": 4,
 "nbformat_minor": 2
}
