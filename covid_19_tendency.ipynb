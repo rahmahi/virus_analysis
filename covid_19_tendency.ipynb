{
 "cells": [
  {
   "cell_type": "markdown",
   "metadata": {},
   "source": [
    "### Sample code 1. for extrapolation"
   ]
  },
  {
   "cell_type": "code",
   "execution_count": null,
   "metadata": {},
   "outputs": [],
   "source": [
    "import numpy as np\n",
    "from scipy.optimize import curve_fit\n",
    "import matplotlib.pyplot as plt\n",
    "\n",
    "def exponential_fit(x, a, b, c):\n",
    "    return a*np.exp(-b*x) + c\n",
    "\n",
    "if __name__ == \"__main__\":\n",
    "    x = np.array([0, 1, 2, 3, 4, 5])\n",
    "    y = np.array([30, 50, 80, 160, 300, 580])\n",
    "    print(x,y)\n",
    "    fitting_parameters, covariance = curve_fit(exponential_fit, x, y)\n",
    "    a, b, c = fitting_parameters\n",
    "    #print(a,b,c)\n",
    "    print(covariance)\n",
    "    next_x = 10\n",
    "    next_y = exponential_fit(next_x, a, b, c)\n",
    "\n",
    "    plt.plot(y,'ro')\n",
    "    plt.plot(np.append(x,next_x),np.append(y, next_y))\n",
    "    plt.grid()\n",
    "    plt.show()"
   ]
  },
  {
   "cell_type": "markdown",
   "metadata": {},
   "source": [
    "### Sample code 2. for extrapolation\n",
    "\n",
    "##### I have used this code for COVID data analysis"
   ]
  },
  {
   "cell_type": "code",
   "execution_count": null,
   "metadata": {},
   "outputs": [],
   "source": [
    "from scipy.interpolate import interp1d\n",
    "from scipy import arange, array, exp\n",
    "\n",
    "def extrap1d(interpolator):\n",
    "    xs = interpolator.x\n",
    "    ys = interpolator.y\n",
    "\n",
    "    def pointwise(x):\n",
    "        if x < xs[0]:\n",
    "            return ys[0]+(x-xs[0])*(ys[1]-ys[0])/(xs[1]-xs[0])\n",
    "        elif x > xs[-1]:\n",
    "            return ys[-1]+(x-xs[-1])*(ys[-1]-ys[-2])/(xs[-1]-xs[-2])\n",
    "        else:\n",
    "            return interpolator(x)\n",
    "\n",
    "    def ufunclike(xs):\n",
    "        return array(list(map(pointwise, array(xs))))\n",
    "\n",
    "    return ufunclike\n",
    "\n",
    "\n",
    "x = arange(0,10)\n",
    "y = exp(-x/3.0)\n",
    "f_i = interp1d(x, y)\n",
    "f_x = extrap1d(f_i)\n",
    "\n",
    "print (f_x([9]))\n",
    "print (f_x([9,10]))"
   ]
  },
  {
   "cell_type": "markdown",
   "metadata": {},
   "source": [
    "# Final code for Extrapolation study\n",
    "\n",
    "@email: mrahaman@scholar.buruniv.ac.in"
   ]
  },
  {
   "cell_type": "code",
   "execution_count": 28,
   "metadata": {},
   "outputs": [
    {
     "name": "stdout",
     "output_type": "stream",
     "text": [
      "[13051.]\n"
     ]
    },
    {
     "name": "stderr",
     "output_type": "stream",
     "text": [
      "/usr/lib/python3/dist-packages/ipykernel_launcher.py:17: DeprecationWarning: scipy.array is deprecated and will be removed in SciPy 2.0.0, use numpy.array instead\n"
     ]
    }
   ],
   "source": [
    "from scipy.interpolate import interp1d\n",
    "from scipy import arange, array, exp\n",
    "\n",
    "def extrap1d(interpolator):\n",
    "    xs = interpolator.x\n",
    "    ys = interpolator.y\n",
    "\n",
    "    def pointwise(x):\n",
    "        if x < xs[0]:\n",
    "            return ys[0]+(x-xs[0])*(ys[1]-ys[0])/(xs[1]-xs[0])\n",
    "        elif x > xs[-1]:\n",
    "            return ys[-1]+(x-xs[-1])*(ys[-1]-ys[-2])/(xs[-1]-xs[-2])\n",
    "        else:\n",
    "            return interpolator(x)\n",
    "\n",
    "    def ufunclike(xs):\n",
    "        return array(list(map(pointwise, array(xs))))\n",
    "\n",
    "    return ufunclike\n",
    "\n",
    "dataday = 48\n",
    "dt = np.loadtxt(\"data\")\n",
    "dy = np.arange(dataday)\n",
    "np.savetxt(\"datafull.txt\",np.vstack((dy,dt)).T)\n",
    "data = np.loadtxt(\"datafull.txt\")\n",
    "day = data[:,0]\n",
    "case = data[:,1]\n",
    "f_i = interp1d(day, case)\n",
    "f_x = extrap1d(f_i)\n",
    "\n",
    "print (f_x([48]))\n"
   ]
  }
 ],
 "metadata": {
  "kernelspec": {
   "display_name": "Python 3",
   "language": "python",
   "name": "python3"
  },
  "language_info": {
   "codemirror_mode": {
    "name": "ipython",
    "version": 3
   },
   "file_extension": ".py",
   "mimetype": "text/x-python",
   "name": "python",
   "nbconvert_exporter": "python",
   "pygments_lexer": "ipython3",
   "version": "3.6.9"
  }
 },
 "nbformat": 4,
 "nbformat_minor": 2
}
